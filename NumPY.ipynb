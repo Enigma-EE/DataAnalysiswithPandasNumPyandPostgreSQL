{
 "cells": [
  {
   "cell_type": "markdown",
   "metadata": {
    "id": "n7d1sEliSAYz"
   },
   "source": [
    "**Basics of NumPy**"
   ]
  },
  {
   "cell_type": "code",
   "execution_count": 1,
   "metadata": {
    "id": "ToMToFcOI5Bf"
   },
   "outputs": [],
   "source": [
    "import numpy as np"
   ]
  },
  {
   "cell_type": "markdown",
   "metadata": {
    "id": "6O1J63_wT4EV"
   },
   "source": [
    "**Basic of Numpy**"
   ]
  },
  {
   "cell_type": "code",
   "execution_count": 2,
   "metadata": {
    "id": "UAqk5i5cT5Zx"
   },
   "outputs": [],
   "source": [
    "a = np.array([5,6,7])"
   ]
  },
  {
   "cell_type": "code",
   "execution_count": 3,
   "metadata": {
    "colab": {
     "base_uri": "https://localhost:8080/"
    },
    "id": "aqWxMTUVSCsF",
    "outputId": "ae3e3d89-d105-4bc2-98d1-8520e6c083d0"
   },
   "outputs": [
    {
     "name": "stdout",
     "output_type": "stream",
     "text": [
      "[5 6 7]\n"
     ]
    }
   ],
   "source": [
    "print(a)"
   ]
  },
  {
   "cell_type": "code",
   "execution_count": 4,
   "metadata": {
    "id": "Rqo880kNUZ3B"
   },
   "outputs": [],
   "source": [
    "b = np.array([[2.0,5.0,6.0],[8.0,2.0,9.0]])"
   ]
  },
  {
   "cell_type": "code",
   "execution_count": 5,
   "metadata": {
    "colab": {
     "base_uri": "https://localhost:8080/"
    },
    "id": "Dj4RiZ-6U1uw",
    "outputId": "67e59ddf-c431-4761-b6cd-15e62be126e0"
   },
   "outputs": [
    {
     "name": "stdout",
     "output_type": "stream",
     "text": [
      "[[2. 5. 6.]\n",
      " [8. 2. 9.]]\n"
     ]
    }
   ],
   "source": [
    "print(b)"
   ]
  },
  {
   "cell_type": "code",
   "execution_count": 6,
   "metadata": {
    "colab": {
     "base_uri": "https://localhost:8080/"
    },
    "id": "QwSevn_bVVKU",
    "outputId": "7d7cb3fe-24f2-4b08-e079-f909ed8bd6f1"
   },
   "outputs": [
    {
     "data": {
      "text/plain": [
       "1"
      ]
     },
     "execution_count": 6,
     "metadata": {},
     "output_type": "execute_result"
    }
   ],
   "source": [
    "#dimentions\n",
    "a.ndim"
   ]
  },
  {
   "cell_type": "code",
   "execution_count": 7,
   "metadata": {
    "colab": {
     "base_uri": "https://localhost:8080/"
    },
    "id": "JlBJYNAfVf3R",
    "outputId": "0cceede1-47ae-4a88-a634-7423120d29a8"
   },
   "outputs": [
    {
     "data": {
      "text/plain": [
       "2"
      ]
     },
     "execution_count": 7,
     "metadata": {},
     "output_type": "execute_result"
    }
   ],
   "source": [
    "b.ndim"
   ]
  },
  {
   "cell_type": "code",
   "execution_count": 8,
   "metadata": {
    "colab": {
     "base_uri": "https://localhost:8080/"
    },
    "id": "XZcpN1Q2VkQ0",
    "outputId": "2e6d7bdf-2c35-4086-f6d2-2c1afba16bd1"
   },
   "outputs": [
    {
     "data": {
      "text/plain": [
       "(3,)"
      ]
     },
     "execution_count": 8,
     "metadata": {},
     "output_type": "execute_result"
    }
   ],
   "source": [
    "#shape\n",
    "a.shape"
   ]
  },
  {
   "cell_type": "code",
   "execution_count": 9,
   "metadata": {
    "colab": {
     "base_uri": "https://localhost:8080/"
    },
    "id": "WvkrGi3QVypK",
    "outputId": "8a51da8b-9276-4f21-c91e-0e6c22d09644"
   },
   "outputs": [
    {
     "data": {
      "text/plain": [
       "(2, 3)"
      ]
     },
     "execution_count": 9,
     "metadata": {},
     "output_type": "execute_result"
    }
   ],
   "source": [
    "b.shape"
   ]
  },
  {
   "cell_type": "code",
   "execution_count": 10,
   "metadata": {
    "colab": {
     "base_uri": "https://localhost:8080/"
    },
    "id": "64kxqjPVV7Py",
    "outputId": "263891a8-3893-464c-9c70-f20403597adc"
   },
   "outputs": [
    {
     "data": {
      "text/plain": [
       "dtype('int32')"
      ]
     },
     "execution_count": 10,
     "metadata": {},
     "output_type": "execute_result"
    }
   ],
   "source": [
    "#type\n",
    "a.dtype"
   ]
  },
  {
   "cell_type": "code",
   "execution_count": 11,
   "metadata": {
    "colab": {
     "base_uri": "https://localhost:8080/"
    },
    "id": "VwnCKOI-Zv05",
    "outputId": "b0fd60d6-1bd8-4a68-b5c9-a20b8946c266"
   },
   "outputs": [
    {
     "data": {
      "text/plain": [
       "dtype('float64')"
      ]
     },
     "execution_count": 11,
     "metadata": {},
     "output_type": "execute_result"
    }
   ],
   "source": [
    "b.dtype"
   ]
  },
  {
   "cell_type": "code",
   "execution_count": 12,
   "metadata": {
    "colab": {
     "base_uri": "https://localhost:8080/"
    },
    "id": "GYd-qkalZzGX",
    "outputId": "7b31b375-6ac8-47b2-9f68-ab8983d2795c"
   },
   "outputs": [
    {
     "data": {
      "text/plain": [
       "4"
      ]
     },
     "execution_count": 12,
     "metadata": {},
     "output_type": "execute_result"
    }
   ],
   "source": [
    "#size\n",
    "a.itemsize"
   ]
  },
  {
   "cell_type": "code",
   "execution_count": 13,
   "metadata": {
    "colab": {
     "base_uri": "https://localhost:8080/"
    },
    "id": "rJ1QMpraa-3k",
    "outputId": "7d1fa3e9-432d-461e-da1d-0a5da663508c"
   },
   "outputs": [
    {
     "data": {
      "text/plain": [
       "8"
      ]
     },
     "execution_count": 13,
     "metadata": {},
     "output_type": "execute_result"
    }
   ],
   "source": [
    "b.itemsize"
   ]
  },
  {
   "cell_type": "code",
   "execution_count": 14,
   "metadata": {
    "colab": {
     "base_uri": "https://localhost:8080/"
    },
    "id": "FpPilyCWjD2m",
    "outputId": "cd0a198f-4596-498f-9c2d-403c19deba95"
   },
   "outputs": [
    {
     "data": {
      "text/plain": [
       "12"
      ]
     },
     "execution_count": 14,
     "metadata": {},
     "output_type": "execute_result"
    }
   ],
   "source": [
    "a.nbytes"
   ]
  },
  {
   "cell_type": "markdown",
   "metadata": {
    "id": "UMgYe5D_vG7c"
   },
   "source": [
    "**Accessing/Changing specific elements, rows, columns etc.**"
   ]
  },
  {
   "cell_type": "code",
   "execution_count": 15,
   "metadata": {
    "colab": {
     "base_uri": "https://localhost:8080/"
    },
    "id": "XVnhnuRo4ENz",
    "outputId": "3ce8b135-0305-4166-a238-ca0e4f1c30a4"
   },
   "outputs": [
    {
     "name": "stdout",
     "output_type": "stream",
     "text": [
      "[[10 21 22  2  8  9 12]\n",
      " [12  1  2  4  9  6  5]]\n"
     ]
    }
   ],
   "source": [
    "a = np.array([[10,21,22,2,8,9,12],[12,1,2,4,9,6,5]])\n",
    "print(a)"
   ]
  },
  {
   "cell_type": "code",
   "execution_count": 16,
   "metadata": {
    "colab": {
     "base_uri": "https://localhost:8080/"
    },
    "id": "tBuru34u4OrY",
    "outputId": "2cf9ab9c-2b8b-4df0-b7c4-1b37627860fb"
   },
   "outputs": [
    {
     "data": {
      "text/plain": [
       "2"
      ]
     },
     "execution_count": 16,
     "metadata": {},
     "output_type": "execute_result"
    }
   ],
   "source": [
    "# get specific elements\n",
    "a[0,3]"
   ]
  },
  {
   "cell_type": "code",
   "execution_count": 17,
   "metadata": {
    "colab": {
     "base_uri": "https://localhost:8080/"
    },
    "id": "8GL5XFWg4qYW",
    "outputId": "37f5c24d-9f64-4722-c671-f0d91fda9507"
   },
   "outputs": [
    {
     "data": {
      "text/plain": [
       "9"
      ]
     },
     "execution_count": 17,
     "metadata": {},
     "output_type": "execute_result"
    }
   ],
   "source": [
    "a[1,4]"
   ]
  },
  {
   "cell_type": "code",
   "execution_count": 18,
   "metadata": {
    "colab": {
     "base_uri": "https://localhost:8080/"
    },
    "id": "pBhkjdRi5Deo",
    "outputId": "fc888aa3-9410-4d61-a921-82c855e09c40"
   },
   "outputs": [
    {
     "data": {
      "text/plain": [
       "12"
      ]
     },
     "execution_count": 18,
     "metadata": {},
     "output_type": "execute_result"
    }
   ],
   "source": [
    "a[0,-1]"
   ]
  },
  {
   "cell_type": "code",
   "execution_count": 19,
   "metadata": {
    "colab": {
     "base_uri": "https://localhost:8080/"
    },
    "id": "LpasMauk5NUJ",
    "outputId": "04a99bce-07db-4167-a69b-f6cb06b024b3"
   },
   "outputs": [
    {
     "data": {
      "text/plain": [
       "4"
      ]
     },
     "execution_count": 19,
     "metadata": {},
     "output_type": "execute_result"
    }
   ],
   "source": [
    "a[1,-4]"
   ]
  },
  {
   "cell_type": "code",
   "execution_count": 20,
   "metadata": {
    "colab": {
     "base_uri": "https://localhost:8080/"
    },
    "id": "hjt44Wvr5Tpk",
    "outputId": "9a935fde-f0cc-4c08-fde7-0e7f96a9c2c5"
   },
   "outputs": [
    {
     "name": "stdout",
     "output_type": "stream",
     "text": [
      "[[10 21 22  2  8  9 12]\n",
      " [12  1  2  4  9  6  5]]\n"
     ]
    }
   ],
   "source": [
    "print(a)"
   ]
  },
  {
   "cell_type": "code",
   "execution_count": 21,
   "metadata": {
    "colab": {
     "base_uri": "https://localhost:8080/"
    },
    "id": "NON8Vcok5Xp4",
    "outputId": "babd6445-5f1c-45f6-9b8d-c5b54f48bd76"
   },
   "outputs": [
    {
     "name": "stdout",
     "output_type": "stream",
     "text": [
      "[10 21 22  2  8  9 12]\n"
     ]
    }
   ],
   "source": [
    "print(a[0])"
   ]
  },
  {
   "cell_type": "code",
   "execution_count": 22,
   "metadata": {
    "colab": {
     "base_uri": "https://localhost:8080/"
    },
    "id": "WVCYD3Qg5tl2",
    "outputId": "0a3f916f-5ce9-45e0-c4dc-bd47d19bf0a5"
   },
   "outputs": [
    {
     "name": "stdout",
     "output_type": "stream",
     "text": [
      "[10 21 22  2  8  9 12]\n"
     ]
    }
   ],
   "source": [
    "print(a[0,:])"
   ]
  },
  {
   "cell_type": "code",
   "execution_count": 23,
   "metadata": {
    "colab": {
     "base_uri": "https://localhost:8080/"
    },
    "id": "wrTRuk146U2O",
    "outputId": "4c769037-346c-4666-f33e-12dec69acc85"
   },
   "outputs": [
    {
     "name": "stdout",
     "output_type": "stream",
     "text": [
      "[10 12]\n"
     ]
    }
   ],
   "source": [
    "print(a[:,0])"
   ]
  },
  {
   "cell_type": "code",
   "execution_count": null,
   "metadata": {
    "id": "43wr1-dd7Ofz"
   },
   "outputs": [],
   "source": [
    "#changing the elements"
   ]
  },
  {
   "cell_type": "code",
   "execution_count": 24,
   "metadata": {
    "colab": {
     "base_uri": "https://localhost:8080/"
    },
    "id": "sqi_nWoj7S7F",
    "outputId": "b873bcbe-f8fd-43b3-bfc7-c554d782f368"
   },
   "outputs": [
    {
     "name": "stdout",
     "output_type": "stream",
     "text": [
      "[[10 21 22  2  8  9 12]\n",
      " [12  1  2  4  9  6  5]]\n"
     ]
    }
   ],
   "source": [
    "print(a)"
   ]
  },
  {
   "cell_type": "code",
   "execution_count": 25,
   "metadata": {
    "id": "FkSzZXCx7eMC"
   },
   "outputs": [],
   "source": [
    "a[0,2] = 12"
   ]
  },
  {
   "cell_type": "code",
   "execution_count": 26,
   "metadata": {
    "colab": {
     "base_uri": "https://localhost:8080/"
    },
    "id": "MZ16zfKq7nxs",
    "outputId": "467ebf19-5fcb-43fe-e782-33a22ee8c41d"
   },
   "outputs": [
    {
     "name": "stdout",
     "output_type": "stream",
     "text": [
      "[[10 21 12  2  8  9 12]\n",
      " [12  1  2  4  9  6  5]]\n"
     ]
    }
   ],
   "source": [
    "print(a)"
   ]
  },
  {
   "cell_type": "code",
   "execution_count": 27,
   "metadata": {
    "colab": {
     "base_uri": "https://localhost:8080/"
    },
    "id": "r6g1dSVP7tk9",
    "outputId": "b9e850f9-3c56-4db8-e4ba-22f3b5a242b1"
   },
   "outputs": [
    {
     "name": "stdout",
     "output_type": "stream",
     "text": [
      "[[10 21 12  3  8  9 12]\n",
      " [12  1  2  3  9  6  5]]\n"
     ]
    }
   ],
   "source": [
    "a[:,3] = 3\n",
    "print(a)"
   ]
  },
  {
   "cell_type": "code",
   "execution_count": 28,
   "metadata": {
    "colab": {
     "base_uri": "https://localhost:8080/"
    },
    "id": "QAyDpzPa8nQc",
    "outputId": "2f785486-3ab4-4a39-c56e-9be2c2731d83"
   },
   "outputs": [
    {
     "name": "stdout",
     "output_type": "stream",
     "text": [
      "[[10 21 12  1  8  9 12]\n",
      " [12  1  2  2  9  6  5]]\n"
     ]
    }
   ],
   "source": [
    "a[:,3] = [1,2]\n",
    "print(a)"
   ]
  },
  {
   "cell_type": "code",
   "execution_count": 29,
   "metadata": {
    "colab": {
     "base_uri": "https://localhost:8080/"
    },
    "id": "FALIUL609GXm",
    "outputId": "6b0c675c-da40-42c3-e839-1f8871f67715"
   },
   "outputs": [
    {
     "name": "stdout",
     "output_type": "stream",
     "text": [
      "[[[3 4]\n",
      "  [6 5]]\n",
      "\n",
      " [[1 5]\n",
      "  [9 8]]]\n"
     ]
    }
   ],
   "source": [
    "#3d array\n",
    "b = np.array([[[3,4],[6,5]],[[1,5],[9,8]]])\n",
    "print(b)"
   ]
  },
  {
   "cell_type": "markdown",
   "metadata": {
    "id": "7vNvX7rbDSrb"
   },
   "source": [
    "**Initializing Different Arrays**"
   ]
  },
  {
   "cell_type": "code",
   "execution_count": 30,
   "metadata": {
    "colab": {
     "base_uri": "https://localhost:8080/"
    },
    "id": "wfIzNOgZEtoc",
    "outputId": "4c05fe93-4902-4969-c7f2-d034c6d0d5b5"
   },
   "outputs": [
    {
     "data": {
      "text/plain": [
       "array([0., 0., 0., 0.])"
      ]
     },
     "execution_count": 30,
     "metadata": {},
     "output_type": "execute_result"
    }
   ],
   "source": [
    "#all zeros matrics\n",
    "np.zeros(4)"
   ]
  },
  {
   "cell_type": "code",
   "execution_count": 31,
   "metadata": {
    "colab": {
     "base_uri": "https://localhost:8080/"
    },
    "id": "Z0iPDjKYFKLt",
    "outputId": "adaa781b-1b89-4a7f-ba4e-83848c874981"
   },
   "outputs": [
    {
     "data": {
      "text/plain": [
       "array([[0., 0., 0.],\n",
       "       [0., 0., 0.],\n",
       "       [0., 0., 0.]])"
      ]
     },
     "execution_count": 31,
     "metadata": {},
     "output_type": "execute_result"
    }
   ],
   "source": [
    "#numpy.zeros(shape, dtype=float, order='C')\n",
    "np.zeros((3,3))"
   ]
  },
  {
   "cell_type": "code",
   "execution_count": 32,
   "metadata": {
    "colab": {
     "base_uri": "https://localhost:8080/"
    },
    "id": "U4YsB9XoGRZ_",
    "outputId": "1fb0ec6d-1888-40c7-cfb6-2ee183609d41"
   },
   "outputs": [
    {
     "data": {
      "text/plain": [
       "array([[0., 0., 0., 0.],\n",
       "       [0., 0., 0., 0.],\n",
       "       [0., 0., 0., 0.]])"
      ]
     },
     "execution_count": 32,
     "metadata": {},
     "output_type": "execute_result"
    }
   ],
   "source": [
    "np.zeros((3,4))"
   ]
  },
  {
   "cell_type": "code",
   "execution_count": 33,
   "metadata": {
    "colab": {
     "base_uri": "https://localhost:8080/"
    },
    "id": "OF4BwLdCGWop",
    "outputId": "e022a1e6-d3d2-4c96-9285-f5299f112238"
   },
   "outputs": [
    {
     "data": {
      "text/plain": [
       "array([[[0., 0., 0., 0., 0.],\n",
       "        [0., 0., 0., 0., 0.],\n",
       "        [0., 0., 0., 0., 0.],\n",
       "        [0., 0., 0., 0., 0.],\n",
       "        [0., 0., 0., 0., 0.]],\n",
       "\n",
       "       [[0., 0., 0., 0., 0.],\n",
       "        [0., 0., 0., 0., 0.],\n",
       "        [0., 0., 0., 0., 0.],\n",
       "        [0., 0., 0., 0., 0.],\n",
       "        [0., 0., 0., 0., 0.]],\n",
       "\n",
       "       [[0., 0., 0., 0., 0.],\n",
       "        [0., 0., 0., 0., 0.],\n",
       "        [0., 0., 0., 0., 0.],\n",
       "        [0., 0., 0., 0., 0.],\n",
       "        [0., 0., 0., 0., 0.]],\n",
       "\n",
       "       [[0., 0., 0., 0., 0.],\n",
       "        [0., 0., 0., 0., 0.],\n",
       "        [0., 0., 0., 0., 0.],\n",
       "        [0., 0., 0., 0., 0.],\n",
       "        [0., 0., 0., 0., 0.]]])"
      ]
     },
     "execution_count": 33,
     "metadata": {},
     "output_type": "execute_result"
    }
   ],
   "source": [
    "np.zeros((4,5,5))"
   ]
  },
  {
   "cell_type": "code",
   "execution_count": 34,
   "metadata": {
    "colab": {
     "base_uri": "https://localhost:8080/"
    },
    "id": "KSXJ0LH3GiL7",
    "outputId": "abfc7f58-34b8-4953-b644-368a570fea24"
   },
   "outputs": [
    {
     "data": {
      "text/plain": [
       "array([1., 1., 1., 1.])"
      ]
     },
     "execution_count": 34,
     "metadata": {},
     "output_type": "execute_result"
    }
   ],
   "source": [
    "np.ones(4)"
   ]
  },
  {
   "cell_type": "code",
   "execution_count": 35,
   "metadata": {
    "colab": {
     "base_uri": "https://localhost:8080/"
    },
    "id": "_Ufdov9LGuqM",
    "outputId": "92a1148c-8f1c-4d94-c45d-3a88a7ed56af"
   },
   "outputs": [
    {
     "data": {
      "text/plain": [
       "array([[1., 1., 1., 1.],\n",
       "       [1., 1., 1., 1.],\n",
       "       [1., 1., 1., 1.],\n",
       "       [1., 1., 1., 1.]])"
      ]
     },
     "execution_count": 35,
     "metadata": {},
     "output_type": "execute_result"
    }
   ],
   "source": [
    "np.ones((4,4))"
   ]
  },
  {
   "cell_type": "code",
   "execution_count": 36,
   "metadata": {
    "colab": {
     "base_uri": "https://localhost:8080/"
    },
    "id": "xWSUVEtCG2kb",
    "outputId": "e4d710b3-14f1-4c55-cb38-4002feb5ce8b"
   },
   "outputs": [
    {
     "data": {
      "text/plain": [
       "array([[5, 5],\n",
       "       [5, 5]])"
      ]
     },
     "execution_count": 36,
     "metadata": {},
     "output_type": "execute_result"
    }
   ],
   "source": [
    "np.full((2,2),5)"
   ]
  },
  {
   "cell_type": "code",
   "execution_count": 37,
   "metadata": {
    "colab": {
     "base_uri": "https://localhost:8080/"
    },
    "id": "vTNzxlrlHB-K",
    "outputId": "6cedec19-0850-44f4-bcf4-25e1f76bf8b0"
   },
   "outputs": [
    {
     "data": {
      "text/plain": [
       "array([[3., 3., 3.],\n",
       "       [3., 3., 3.],\n",
       "       [3., 3., 3.]], dtype=float32)"
      ]
     },
     "execution_count": 37,
     "metadata": {},
     "output_type": "execute_result"
    }
   ],
   "source": [
    "np.full((3,3),3,dtype = 'float32')"
   ]
  },
  {
   "cell_type": "code",
   "execution_count": 38,
   "metadata": {
    "colab": {
     "base_uri": "https://localhost:8080/"
    },
    "id": "rF_YUTOIHTFf",
    "outputId": "7098c176-25fe-4f2f-a731-b063b8a74ad8"
   },
   "outputs": [
    {
     "data": {
      "text/plain": [
       "array([[10, 21, 12,  1,  8,  9, 12],\n",
       "       [12,  1,  2,  2,  9,  6,  5]])"
      ]
     },
     "execution_count": 38,
     "metadata": {},
     "output_type": "execute_result"
    }
   ],
   "source": [
    "a"
   ]
  },
  {
   "cell_type": "code",
   "execution_count": 39,
   "metadata": {
    "colab": {
     "base_uri": "https://localhost:8080/"
    },
    "id": "Vx9BPbs3HZo9",
    "outputId": "6c0c812c-f915-422a-8891-50eace064cef"
   },
   "outputs": [
    {
     "data": {
      "text/plain": [
       "array([[4, 4, 4, 4, 4, 4, 4],\n",
       "       [4, 4, 4, 4, 4, 4, 4]])"
      ]
     },
     "execution_count": 39,
     "metadata": {},
     "output_type": "execute_result"
    }
   ],
   "source": [
    "np.full_like(a, 4)"
   ]
  },
  {
   "cell_type": "code",
   "execution_count": 40,
   "metadata": {
    "colab": {
     "base_uri": "https://localhost:8080/"
    },
    "id": "yMQ6ys2QHk_s",
    "outputId": "c33894dd-e138-4d39-f3d2-da3480b6d810"
   },
   "outputs": [
    {
     "data": {
      "text/plain": [
       "array([[0.54415841, 0.07434511],\n",
       "       [0.59580139, 0.22991326],\n",
       "       [0.29614659, 0.7287159 ],\n",
       "       [0.82781396, 0.4279311 ]])"
      ]
     },
     "execution_count": 40,
     "metadata": {},
     "output_type": "execute_result"
    }
   ],
   "source": [
    "#ramdom decimals\n",
    "np.random.rand(4,2)"
   ]
  },
  {
   "cell_type": "code",
   "execution_count": null,
   "metadata": {
    "colab": {
     "base_uri": "https://localhost:8080/"
    },
    "id": "NHm45E8cILu3",
    "outputId": "956bc6c5-1e91-4156-eb91-7c1267591dcb"
   },
   "outputs": [
    {
     "data": {
      "text/plain": [
       "array([[0.66810182, 0.04286826, 0.80662102, 0.06367593, 0.33900996,\n",
       "        0.99249191, 0.28182805],\n",
       "       [0.75296279, 0.61781132, 0.06784062, 0.38769982, 0.32090717,\n",
       "        0.87911674, 0.88696183]])"
      ]
     },
     "execution_count": 42,
     "metadata": {},
     "output_type": "execute_result"
    }
   ],
   "source": [
    "np.random.random_sample(a.shape)"
   ]
  },
  {
   "cell_type": "code",
   "execution_count": 41,
   "metadata": {
    "colab": {
     "base_uri": "https://localhost:8080/"
    },
    "id": "1sD47Sh4I-P-",
    "outputId": "fd8faca6-fe80-40e9-9540-5c949cdddcfe"
   },
   "outputs": [
    {
     "data": {
      "text/plain": [
       "array([[1., 0., 0., 0., 0., 0.],\n",
       "       [0., 1., 0., 0., 0., 0.],\n",
       "       [0., 0., 1., 0., 0., 0.],\n",
       "       [0., 0., 0., 1., 0., 0.],\n",
       "       [0., 0., 0., 0., 1., 0.],\n",
       "       [0., 0., 0., 0., 0., 1.]])"
      ]
     },
     "execution_count": 41,
     "metadata": {},
     "output_type": "execute_result"
    }
   ],
   "source": [
    "np.identity(6)"
   ]
  },
  {
   "cell_type": "code",
   "execution_count": 42,
   "metadata": {
    "colab": {
     "base_uri": "https://localhost:8080/"
    },
    "id": "Nur6BxvhJLcn",
    "outputId": "26266012-0a73-44c1-b7d7-a034c12a7a3c"
   },
   "outputs": [
    {
     "name": "stdout",
     "output_type": "stream",
     "text": [
      "[[11 11 11 12 12 12  5  5  5]]\n"
     ]
    }
   ],
   "source": [
    "arr = np.array([[11,12,5]])\n",
    "a1 = np.repeat(arr, 3, axis = 1)\n",
    "print(a1)"
   ]
  },
  {
   "cell_type": "markdown",
   "metadata": {
    "id": "PoP6BY_tdBD-"
   },
   "source": [
    "**Mathematics**"
   ]
  },
  {
   "cell_type": "code",
   "execution_count": 43,
   "metadata": {
    "colab": {
     "base_uri": "https://localhost:8080/"
    },
    "id": "roUtjka4dHAF",
    "outputId": "73f1d996-62cd-4d97-a110-68f8bc88664c"
   },
   "outputs": [
    {
     "name": "stdout",
     "output_type": "stream",
     "text": [
      "[1 2 3 4]\n"
     ]
    }
   ],
   "source": [
    "a = np.array([1,2,3,4])\n",
    "print(a)"
   ]
  },
  {
   "cell_type": "code",
   "execution_count": 44,
   "metadata": {
    "colab": {
     "base_uri": "https://localhost:8080/"
    },
    "id": "QeLMstVKJ3nR",
    "outputId": "451d849e-fc71-4ca1-81b3-91445227dbd6"
   },
   "outputs": [
    {
     "data": {
      "text/plain": [
       "array([6, 7, 8, 9])"
      ]
     },
     "execution_count": 44,
     "metadata": {},
     "output_type": "execute_result"
    }
   ],
   "source": [
    "a +5 "
   ]
  },
  {
   "cell_type": "code",
   "execution_count": 45,
   "metadata": {
    "colab": {
     "base_uri": "https://localhost:8080/"
    },
    "id": "nhRMZnbfkJ4E",
    "outputId": "a1d60986-5edf-4eac-b18f-75665dfc8ae9"
   },
   "outputs": [
    {
     "data": {
      "text/plain": [
       "array([-2, -1,  0,  1])"
      ]
     },
     "execution_count": 45,
     "metadata": {},
     "output_type": "execute_result"
    }
   ],
   "source": [
    "a - 3"
   ]
  },
  {
   "cell_type": "code",
   "execution_count": 46,
   "metadata": {
    "colab": {
     "base_uri": "https://localhost:8080/"
    },
    "id": "6cZkY0GakWGk",
    "outputId": "588e0de3-e8a8-4bc4-d423-66448d3cb0dd"
   },
   "outputs": [
    {
     "data": {
      "text/plain": [
       "array([ 3,  6,  9, 12])"
      ]
     },
     "execution_count": 46,
     "metadata": {},
     "output_type": "execute_result"
    }
   ],
   "source": [
    "a*3"
   ]
  },
  {
   "cell_type": "code",
   "execution_count": 47,
   "metadata": {
    "colab": {
     "base_uri": "https://localhost:8080/"
    },
    "id": "3o-exCmzkbcq",
    "outputId": "9b72bd14-ec05-4368-b5e1-97894dc5ffae"
   },
   "outputs": [
    {
     "data": {
      "text/plain": [
       "array([0.33333333, 0.66666667, 1.        , 1.33333333])"
      ]
     },
     "execution_count": 47,
     "metadata": {},
     "output_type": "execute_result"
    }
   ],
   "source": [
    "a/3"
   ]
  },
  {
   "cell_type": "code",
   "execution_count": 48,
   "metadata": {
    "colab": {
     "base_uri": "https://localhost:8080/"
    },
    "id": "XEzP8gP5knBx",
    "outputId": "f2d1383a-3098-400c-e216-6e3305aa14e6"
   },
   "outputs": [
    {
     "data": {
      "text/plain": [
       "array([0, 0, 1, 1], dtype=int32)"
      ]
     },
     "execution_count": 48,
     "metadata": {},
     "output_type": "execute_result"
    }
   ],
   "source": [
    "a//3"
   ]
  },
  {
   "cell_type": "code",
   "execution_count": 49,
   "metadata": {
    "id": "I35AruV_lFIp"
   },
   "outputs": [],
   "source": [
    "b = np.array([5,6,7,8])"
   ]
  },
  {
   "cell_type": "code",
   "execution_count": 50,
   "metadata": {
    "colab": {
     "base_uri": "https://localhost:8080/"
    },
    "id": "jBIQIu_eldHz",
    "outputId": "dfcb4246-d693-4077-9a26-6b02bb8910bf"
   },
   "outputs": [
    {
     "data": {
      "text/plain": [
       "array([ 6,  8, 10, 12])"
      ]
     },
     "execution_count": 50,
     "metadata": {},
     "output_type": "execute_result"
    }
   ],
   "source": [
    "a + b"
   ]
  },
  {
   "cell_type": "code",
   "execution_count": 51,
   "metadata": {
    "colab": {
     "base_uri": "https://localhost:8080/"
    },
    "id": "0Moni2suli04",
    "outputId": "8336742c-1ed0-45ee-8a22-fb886722c0dc"
   },
   "outputs": [
    {
     "data": {
      "text/plain": [
       "array([ 1,  8, 27, 64], dtype=int32)"
      ]
     },
     "execution_count": 51,
     "metadata": {},
     "output_type": "execute_result"
    }
   ],
   "source": [
    "a**3"
   ]
  },
  {
   "cell_type": "code",
   "execution_count": 52,
   "metadata": {
    "colab": {
     "base_uri": "https://localhost:8080/"
    },
    "id": "iM-oTnNxly47",
    "outputId": "f80eda42-f3fb-4614-8101-f66bb2cc078c"
   },
   "outputs": [
    {
     "data": {
      "text/plain": [
       "array([ 0.84147098,  0.90929743,  0.14112001, -0.7568025 ])"
      ]
     },
     "execution_count": 52,
     "metadata": {},
     "output_type": "execute_result"
    }
   ],
   "source": [
    "np.sin(a)"
   ]
  },
  {
   "cell_type": "code",
   "execution_count": 53,
   "metadata": {
    "colab": {
     "base_uri": "https://localhost:8080/"
    },
    "id": "1YbZbee0l4BK",
    "outputId": "6d3c6261-b1f2-4204-f8b8-e7e8cb5c2db0"
   },
   "outputs": [
    {
     "data": {
      "text/plain": [
       "array([ 0.54030231, -0.41614684, -0.9899925 , -0.65364362])"
      ]
     },
     "execution_count": 53,
     "metadata": {},
     "output_type": "execute_result"
    }
   ],
   "source": [
    "np.cos(a)"
   ]
  },
  {
   "cell_type": "markdown",
   "metadata": {
    "id": "CqF-tU-UmiT9"
   },
   "source": [
    "**Linear Algebra**"
   ]
  },
  {
   "cell_type": "code",
   "execution_count": 54,
   "metadata": {
    "colab": {
     "base_uri": "https://localhost:8080/"
    },
    "id": "HbtclUszo-gp",
    "outputId": "1618b0de-880c-4f92-edd9-521eb3130ccc"
   },
   "outputs": [
    {
     "name": "stdout",
     "output_type": "stream",
     "text": [
      "[[5 5 5 5]\n",
      " [5 5 5 5]\n",
      " [5 5 5 5]]\n",
      "[[4 4 4 4 4]\n",
      " [4 4 4 4 4]\n",
      " [4 4 4 4 4]\n",
      " [4 4 4 4 4]]\n"
     ]
    }
   ],
   "source": [
    "a = np.full((3,4),5)\n",
    "b = np.full((4,5),4)\n",
    "print(a)\n",
    "print(b)"
   ]
  },
  {
   "cell_type": "code",
   "execution_count": 55,
   "metadata": {
    "colab": {
     "base_uri": "https://localhost:8080/",
     "height": 171
    },
    "id": "NiE1N97opjW2",
    "outputId": "7fb5630c-05c2-4b16-b280-89f203617e5c"
   },
   "outputs": [
    {
     "ename": "ValueError",
     "evalue": "operands could not be broadcast together with shapes (3,4) (4,5) ",
     "output_type": "error",
     "traceback": [
      "\u001b[1;31m---------------------------------------------------------------------------\u001b[0m",
      "\u001b[1;31mValueError\u001b[0m                                Traceback (most recent call last)",
      "\u001b[1;32m~\\AppData\\Local\\Temp\\ipykernel_16048\\3507077656.py\u001b[0m in \u001b[0;36m<module>\u001b[1;34m\u001b[0m\n\u001b[1;32m----> 1\u001b[1;33m \u001b[0ma\u001b[0m\u001b[1;33m*\u001b[0m\u001b[0mb\u001b[0m\u001b[1;33m\u001b[0m\u001b[1;33m\u001b[0m\u001b[0m\n\u001b[0m",
      "\u001b[1;31mValueError\u001b[0m: operands could not be broadcast together with shapes (3,4) (4,5) "
     ]
    }
   ],
   "source": [
    "a*b"
   ]
  },
  {
   "cell_type": "code",
   "execution_count": 56,
   "metadata": {
    "colab": {
     "base_uri": "https://localhost:8080/"
    },
    "id": "IxBupI9Cptc_",
    "outputId": "d4f1c5ea-9f59-4e89-9e85-ad1cbd813d59"
   },
   "outputs": [
    {
     "data": {
      "text/plain": [
       "array([[80, 80, 80, 80, 80],\n",
       "       [80, 80, 80, 80, 80],\n",
       "       [80, 80, 80, 80, 80]])"
      ]
     },
     "execution_count": 56,
     "metadata": {},
     "output_type": "execute_result"
    }
   ],
   "source": [
    "np.matmul(a,b)"
   ]
  },
  {
   "cell_type": "code",
   "execution_count": 58,
   "metadata": {
    "id": "uX52CRwFqH2-"
   },
   "outputs": [
    {
     "data": {
      "text/plain": [
       "array([[1., 0., 0., 0., 0.],\n",
       "       [0., 1., 0., 0., 0.],\n",
       "       [0., 0., 1., 0., 0.],\n",
       "       [0., 0., 0., 1., 0.],\n",
       "       [0., 0., 0., 0., 1.]])"
      ]
     },
     "execution_count": 58,
     "metadata": {},
     "output_type": "execute_result"
    }
   ],
   "source": [
    "c = np.identity(5)\n",
    "c"
   ]
  },
  {
   "cell_type": "code",
   "execution_count": 59,
   "metadata": {
    "colab": {
     "base_uri": "https://localhost:8080/"
    },
    "id": "WqnNKpiUqad7",
    "outputId": "533b083f-c175-467a-feb9-a89d19a00d99"
   },
   "outputs": [
    {
     "data": {
      "text/plain": [
       "1.0"
      ]
     },
     "execution_count": 59,
     "metadata": {},
     "output_type": "execute_result"
    }
   ],
   "source": [
    "np.linalg.det(c)"
   ]
  },
  {
   "cell_type": "markdown",
   "metadata": {
    "id": "qZBcsFshq58j"
   },
   "source": [
    "**Statistics**"
   ]
  },
  {
   "cell_type": "code",
   "execution_count": 60,
   "metadata": {
    "id": "XhyIqQyLrJ76"
   },
   "outputs": [],
   "source": [
    "s = np.array([[1,2,3],[4,5,6]])"
   ]
  },
  {
   "cell_type": "code",
   "execution_count": 61,
   "metadata": {
    "colab": {
     "base_uri": "https://localhost:8080/"
    },
    "id": "fwZXmXVWqgmS",
    "outputId": "ece13281-61e8-4cf4-9908-d187ad09cde7"
   },
   "outputs": [
    {
     "data": {
      "text/plain": [
       "array([[1, 2, 3],\n",
       "       [4, 5, 6]])"
      ]
     },
     "execution_count": 61,
     "metadata": {},
     "output_type": "execute_result"
    }
   ],
   "source": [
    "s"
   ]
  },
  {
   "cell_type": "code",
   "execution_count": 62,
   "metadata": {
    "colab": {
     "base_uri": "https://localhost:8080/"
    },
    "id": "xMTPG9wNrdES",
    "outputId": "e648eaf9-c65b-4bad-ba67-c22d8d5da531"
   },
   "outputs": [
    {
     "data": {
      "text/plain": [
       "array([1, 4])"
      ]
     },
     "execution_count": 62,
     "metadata": {},
     "output_type": "execute_result"
    }
   ],
   "source": [
    "np.min(s, axis = 1)"
   ]
  },
  {
   "cell_type": "code",
   "execution_count": 63,
   "metadata": {
    "colab": {
     "base_uri": "https://localhost:8080/"
    },
    "id": "gPrd_tABruJj",
    "outputId": "c034018a-3a4e-4d38-b5c0-c16540819335"
   },
   "outputs": [
    {
     "data": {
      "text/plain": [
       "6"
      ]
     },
     "execution_count": 63,
     "metadata": {},
     "output_type": "execute_result"
    }
   ],
   "source": [
    "np.max(s)\n"
   ]
  },
  {
   "cell_type": "code",
   "execution_count": 64,
   "metadata": {
    "colab": {
     "base_uri": "https://localhost:8080/"
    },
    "id": "-XLBi7I_r4gj",
    "outputId": "f9f0050b-dffd-41c5-a090-da5b70ade39e"
   },
   "outputs": [
    {
     "data": {
      "text/plain": [
       "21"
      ]
     },
     "execution_count": 64,
     "metadata": {},
     "output_type": "execute_result"
    }
   ],
   "source": [
    "np.sum(s)"
   ]
  },
  {
   "cell_type": "code",
   "execution_count": 65,
   "metadata": {
    "colab": {
     "base_uri": "https://localhost:8080/"
    },
    "id": "OjTDsF53sAdp",
    "outputId": "740402d6-ff52-4e0d-f7a8-719e473691da"
   },
   "outputs": [
    {
     "data": {
      "text/plain": [
       "array([ 6, 15])"
      ]
     },
     "execution_count": 65,
     "metadata": {},
     "output_type": "execute_result"
    }
   ],
   "source": [
    "np.sum(s, axis = 1)"
   ]
  },
  {
   "cell_type": "markdown",
   "metadata": {
    "id": "alwkA7pWU82V"
   },
   "source": [
    "**Reorganizing Arrays**"
   ]
  },
  {
   "cell_type": "code",
   "execution_count": 66,
   "metadata": {
    "colab": {
     "base_uri": "https://localhost:8080/"
    },
    "id": "NgiMD5syVDJ5",
    "outputId": "6da62157-df74-4300-f390-de56dd64814d"
   },
   "outputs": [
    {
     "data": {
      "text/plain": [
       "array([[2, 4, 6, 8],\n",
       "       [1, 3, 5, 7]])"
      ]
     },
     "execution_count": 66,
     "metadata": {},
     "output_type": "execute_result"
    }
   ],
   "source": [
    "b1 = np.array([[2,4,6,8],[1,3,5,7]])\n",
    "b1"
   ]
  },
  {
   "cell_type": "code",
   "execution_count": 67,
   "metadata": {
    "id": "BUBWu0nyVrN-"
   },
   "outputs": [],
   "source": [
    "a1 = b1.reshape((4,2))"
   ]
  },
  {
   "cell_type": "code",
   "execution_count": 68,
   "metadata": {
    "colab": {
     "base_uri": "https://localhost:8080/"
    },
    "id": "0B7y-ptcV2Bc",
    "outputId": "d0c694f7-102a-4b6d-d147-df59825a68fc"
   },
   "outputs": [
    {
     "name": "stdout",
     "output_type": "stream",
     "text": [
      "[[2 4]\n",
      " [6 8]\n",
      " [1 3]\n",
      " [5 7]]\n"
     ]
    }
   ],
   "source": [
    "print(a1)"
   ]
  },
  {
   "cell_type": "code",
   "execution_count": 84,
   "metadata": {
    "colab": {
     "base_uri": "https://localhost:8080/",
     "height": 171
    },
    "id": "U8kRVyd7V6Hi",
    "outputId": "a48d5ea3-a46b-49e0-9b2d-9171ea49c976"
   },
   "outputs": [],
   "source": [
    "# a1 = b1.reshape((2,3))"
   ]
  },
  {
   "cell_type": "code",
   "execution_count": 70,
   "metadata": {
    "id": "epBsAYNKWQ8F"
   },
   "outputs": [],
   "source": [
    "#vertical stacking \n",
    "v1 = np.array([2,4,6,8])\n",
    "v2 = np.array([1,3,4,5])"
   ]
  },
  {
   "cell_type": "code",
   "execution_count": 71,
   "metadata": {
    "colab": {
     "base_uri": "https://localhost:8080/"
    },
    "id": "YVzdqCudXVnl",
    "outputId": "0fb2a3ec-f5d6-4ec3-bfce-6d590f574887"
   },
   "outputs": [
    {
     "data": {
      "text/plain": [
       "array([[2, 4, 6, 8],\n",
       "       [1, 3, 4, 5]])"
      ]
     },
     "execution_count": 71,
     "metadata": {},
     "output_type": "execute_result"
    }
   ],
   "source": [
    "np.vstack([v1,v2])"
   ]
  },
  {
   "cell_type": "code",
   "execution_count": 72,
   "metadata": {
    "colab": {
     "base_uri": "https://localhost:8080/"
    },
    "id": "bs_Cva-zXcxX",
    "outputId": "4589509d-63ec-41cd-e163-ac3aa3f4dc4e"
   },
   "outputs": [
    {
     "data": {
      "text/plain": [
       "array([2, 4, 6, 8, 1, 3, 4, 5])"
      ]
     },
     "execution_count": 72,
     "metadata": {},
     "output_type": "execute_result"
    }
   ],
   "source": [
    "np.hstack([v1,v2])"
   ]
  },
  {
   "cell_type": "markdown",
   "metadata": {
    "id": "Qutb8HfdX6hA"
   },
   "source": [
    "**Import Data from a file**"
   ]
  },
  {
   "cell_type": "code",
   "execution_count": 75,
   "metadata": {},
   "outputs": [],
   "source": [
    "data = np.array([[1.,2.,3.,4.,5.],[6.,7.,8.,9.,10.]])"
   ]
  },
  {
   "cell_type": "code",
   "execution_count": 76,
   "metadata": {},
   "outputs": [],
   "source": [
    "\n",
    "\n",
    "# Save the array to a text file\n",
    "np.savetxt(\"array.txt\", data, delimiter=\",\")\n"
   ]
  },
  {
   "cell_type": "code",
   "execution_count": 77,
   "metadata": {
    "id": "gXj3BYjqX4jg"
   },
   "outputs": [],
   "source": [
    "Data = np.genfromtxt('array.txt', delimiter = ',')"
   ]
  },
  {
   "cell_type": "code",
   "execution_count": 78,
   "metadata": {
    "colab": {
     "base_uri": "https://localhost:8080/"
    },
    "id": "DEm_llsdZez_",
    "outputId": "d7fb8c72-3449-4e21-9677-d987563dcb10"
   },
   "outputs": [
    {
     "name": "stdout",
     "output_type": "stream",
     "text": [
      "[[ 1.  2.  3.  4.  5.]\n",
      " [ 6.  7.  8.  9. 10.]]\n"
     ]
    }
   ],
   "source": [
    "print(Data)"
   ]
  },
  {
   "cell_type": "markdown",
   "metadata": {
    "id": "AT7n7EgsaZah"
   },
   "source": [
    "**Boolean Masking and Advanced Indexing**"
   ]
  },
  {
   "cell_type": "code",
   "execution_count": 79,
   "metadata": {
    "id": "MREe4W8Sc6AN"
   },
   "outputs": [
    {
     "data": {
      "text/plain": [
       "array([[False, False, False, False, False],\n",
       "       [ True,  True,  True,  True,  True]])"
      ]
     },
     "execution_count": 79,
     "metadata": {},
     "output_type": "execute_result"
    }
   ],
   "source": [
    "Data > 5"
   ]
  },
  {
   "cell_type": "code",
   "execution_count": 80,
   "metadata": {
    "colab": {
     "base_uri": "https://localhost:8080/"
    },
    "id": "jou3FHOoaVzM",
    "outputId": "6e1b4f5f-35d6-4e4e-d02e-98d59fc362a9"
   },
   "outputs": [
    {
     "data": {
      "text/plain": [
       "array([[False,  True, False, False, False],\n",
       "       [False, False, False, False, False]])"
      ]
     },
     "execution_count": 80,
     "metadata": {},
     "output_type": "execute_result"
    }
   ],
   "source": [
    "Data == 2"
   ]
  },
  {
   "cell_type": "code",
   "execution_count": 81,
   "metadata": {
    "id": "GsZ3y21zcRvg"
   },
   "outputs": [],
   "source": [
    "a = np.array([10,20,30,40,50,60,70,80,90,100])"
   ]
  },
  {
   "cell_type": "code",
   "execution_count": 82,
   "metadata": {
    "colab": {
     "base_uri": "https://localhost:8080/"
    },
    "id": "tTjPV3EKcaps",
    "outputId": "4345b05a-3711-4457-8182-da3f81b2046b"
   },
   "outputs": [
    {
     "data": {
      "text/plain": [
       "array([30, 60, 90])"
      ]
     },
     "execution_count": 82,
     "metadata": {},
     "output_type": "execute_result"
    }
   ],
   "source": [
    "a[[2,5,8]]"
   ]
  },
  {
   "cell_type": "code",
   "execution_count": 83,
   "metadata": {
    "colab": {
     "base_uri": "https://localhost:8080/"
    },
    "id": "R9xjAVnDciBt",
    "outputId": "03810f66-9f8b-44bd-827e-489efd2a8912"
   },
   "outputs": [
    {
     "data": {
      "text/plain": [
       "True"
      ]
     },
     "execution_count": 83,
     "metadata": {},
     "output_type": "execute_result"
    }
   ],
   "source": [
    "np.any(a> 50, axis = 0)"
   ]
  },
  {
   "cell_type": "code",
   "execution_count": null,
   "metadata": {},
   "outputs": [],
   "source": []
  }
 ],
 "metadata": {
  "colab": {
   "collapsed_sections": [],
   "name": "NumPY.ipynb",
   "provenance": []
  },
  "kernelspec": {
   "display_name": "Python 3 (ipykernel)",
   "language": "python",
   "name": "python3"
  },
  "language_info": {
   "codemirror_mode": {
    "name": "ipython",
    "version": 3
   },
   "file_extension": ".py",
   "mimetype": "text/x-python",
   "name": "python",
   "nbconvert_exporter": "python",
   "pygments_lexer": "ipython3",
   "version": "3.7.4"
  }
 },
 "nbformat": 4,
 "nbformat_minor": 1
}
